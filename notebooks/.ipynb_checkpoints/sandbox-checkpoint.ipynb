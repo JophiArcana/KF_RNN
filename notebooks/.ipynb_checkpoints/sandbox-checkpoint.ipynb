{
 "cells": [
  {
   "cell_type": "code",
   "execution_count": 1,
   "metadata": {
    "id": "QupgVmcZgvyx"
   },
   "outputs": [],
   "source": [
    "## Created by Wentinn Liao"
   ]
  },
  {
   "cell_type": "markdown",
   "metadata": {
    "id": "k722vkzdWafR"
   },
   "source": [
    "# Kalman Filter Research"
   ]
  },
  {
   "cell_type": "code",
   "execution_count": null,
   "metadata": {
    "id": "S27iMYAOuWiB",
    "colab": {
     "base_uri": "https://localhost:8080/"
    },
    "executionInfo": {
     "status": "ok",
     "timestamp": 1700087655720,
     "user_tz": 480,
     "elapsed": 35466,
     "user": {
      "displayName": "Saagar Sanghavi",
      "userId": "09597830538261924392"
     }
    },
    "outputId": "c8f3562b-c8ac-4ca6-ecfa-0c4b0b0ca5b4"
   },
   "outputs": [],
   "source": [
    "#@title Mount Google Drive\n",
    "from google.colab import drive\n",
    "drive.mount('/content/gdrive')"
   ]
  },
  {
   "cell_type": "code",
   "execution_count": null,
   "metadata": {
    "id": "0xHh9PF6hl3R",
    "colab": {
     "base_uri": "https://localhost:8080/"
    },
    "executionInfo": {
     "status": "ok",
     "timestamp": 1700087664916,
     "user_tz": 480,
     "elapsed": 295,
     "user": {
      "displayName": "Saagar Sanghavi",
      "userId": "09597830538261924392"
     }
    },
    "outputId": "0a41d600-39ca-4b96-d20b-46e044c49018"
   },
   "outputs": [],
   "source": [
    "#@title Symlink Setup\n",
    "import os\n",
    "def ptpp(PATH: str) -> str: # Converts path to python path\n",
    "    return PATH.replace('\\\\', '')\n",
    "\n",
    "DRIVE_PATH = '/content/gdrive/My\\ Drive/KF_RNN'\n",
    "if not os.path.exists(ptpp(DRIVE_PATH)):\n",
    "    %mkdir $DRIVE_PATH\n",
    "SYM_PATH = '/content/KF_RNN'\n",
    "if not os.path.exists(ptpp(SYM_PATH)):\n",
    "    !ln -s $DRIVE_PATH $SYM_PATH\n",
    "%cd $SYM_PATH"
   ]
  },
  {
   "cell_type": "code",
   "execution_count": 2,
   "metadata": {
    "id": "-h7SwLD3uWiC",
    "colab": {
     "base_uri": "https://localhost:8080/"
    },
    "executionInfo": {
     "status": "ok",
     "timestamp": 1700087672415,
     "user_tz": 480,
     "elapsed": 7177,
     "user": {
      "displayName": "Saagar Sanghavi",
      "userId": "09597830538261924392"
     }
    },
    "outputId": "3b36de1b-162a-4abc-e7cd-910833811c01"
   },
   "outputs": [
    {
     "name": "stdout",
     "output_type": "stream",
     "text": [
      "Requirement already satisfied: numpy in /Users/wentinnliao/opt/anaconda3/lib/python3.9/site-packages (1.26.2)\r\n",
      "Requirement already satisfied: imageio in /Users/wentinnliao/opt/anaconda3/lib/python3.9/site-packages (2.32.0)\r\n",
      "Requirement already satisfied: matplotlib in /Users/wentinnliao/opt/anaconda3/lib/python3.9/site-packages (3.7.3)\r\n",
      "Requirement already satisfied: ipympl in /Users/wentinnliao/opt/anaconda3/lib/python3.9/site-packages (0.8.8)\r\n",
      "Requirement already satisfied: scikit-learn in /Users/wentinnliao/opt/anaconda3/lib/python3.9/site-packages (1.3.2)\r\n",
      "\u001B[33mWARNING: Retrying (Retry(total=4, connect=None, read=None, redirect=None, status=None)) after connection broken by 'NewConnectionError('<pip._vendor.urllib3.connection.HTTPSConnection object at 0x7f9b68ca0a90>: Failed to establish a new connection: [Errno 8] nodename nor servname provided, or not known')': /simple/torch/\u001B[0m\u001B[33m\r\n",
      "\u001B[0m\u001B[33mWARNING: Retrying (Retry(total=3, connect=None, read=None, redirect=None, status=None)) after connection broken by 'NewConnectionError('<pip._vendor.urllib3.connection.HTTPSConnection object at 0x7f9b68ca0c40>: Failed to establish a new connection: [Errno 8] nodename nor servname provided, or not known')': /simple/torch/\u001B[0m\u001B[33m\r\n",
      "\u001B[0m\u001B[33mWARNING: Retrying (Retry(total=2, connect=None, read=None, redirect=None, status=None)) after connection broken by 'NewConnectionError('<pip._vendor.urllib3.connection.HTTPSConnection object at 0x7f9b68ca2ee0>: Failed to establish a new connection: [Errno 8] nodename nor servname provided, or not known')': /simple/torch/\u001B[0m\u001B[33m\r\n",
      "\u001B[0m\u001B[33mWARNING: Retrying (Retry(total=1, connect=None, read=None, redirect=None, status=None)) after connection broken by 'NewConnectionError('<pip._vendor.urllib3.connection.HTTPSConnection object at 0x7f9b68ca2fa0>: Failed to establish a new connection: [Errno 8] nodename nor servname provided, or not known')': /simple/torch/\u001B[0m\u001B[33m\r\n",
      "\u001B[0m\u001B[33mWARNING: Retrying (Retry(total=0, connect=None, read=None, redirect=None, status=None)) after connection broken by 'NewConnectionError('<pip._vendor.urllib3.connection.HTTPSConnection object at 0x7f9b68cca400>: Failed to establish a new connection: [Errno 8] nodename nor servname provided, or not known')': /simple/torch/\u001B[0m\u001B[33m\r\n",
      "\u001B[0m\u001B[31mERROR: Could not find a version that satisfies the requirement torch==2.0.0 (from versions: none)\u001B[0m\u001B[31m\r\n",
      "\u001B[0m\u001B[31mERROR: No matching distribution found for torch==2.0.0\u001B[0m\u001B[31m\r\n",
      "\u001B[0m"
     ]
    }
   ],
   "source": [
    "!pip install numpy imageio matplotlib ipympl scikit-learn torch==2.0.0 pytorch-ignite tensordict"
   ]
  },
  {
   "cell_type": "code",
   "execution_count": 2,
   "metadata": {
    "id": "9pbdKYaruWiD",
    "executionInfo": {
     "status": "ok",
     "timestamp": 1700087672415,
     "user_tz": 480,
     "elapsed": 3,
     "user": {
      "displayName": "Saagar Sanghavi",
      "userId": "09597830538261924392"
     }
    }
   },
   "outputs": [],
   "source": [
    "#@title Configure Jupyter Notebook\n",
    "import matplotlib\n",
    "%matplotlib inline\n",
    "%load_ext autoreload\n",
    "%autoreload 2"
   ]
  },
  {
   "cell_type": "code",
   "execution_count": 2,
   "metadata": {
    "id": "uK2SmUy3uWiD",
    "executionInfo": {
     "status": "ok",
     "timestamp": 1700087681844,
     "user_tz": 480,
     "elapsed": 9431,
     "user": {
      "displayName": "Saagar Sanghavi",
      "userId": "09597830538261924392"
     }
    }
   },
   "outputs": [
    {
     "ename": "TypeError",
     "evalue": "unsupported operand type(s) for |: 'torch._C._TensorMeta' and 'type'",
     "output_type": "error",
     "traceback": [
      "\u001B[0;31m---------------------------------------------------------------------------\u001B[0m",
      "\u001B[0;31mTypeError\u001B[0m                                 Traceback (most recent call last)",
      "\u001B[0;32m/var/folders/96/mqhtth294kvbh5g8wd6by00w0000gn/T/ipykernel_17882/118807539.py\u001B[0m in \u001B[0;36m<module>\u001B[0;34m\u001B[0m\n\u001B[1;32m     17\u001B[0m \u001B[0;34m\u001B[0m\u001B[0m\n\u001B[1;32m     18\u001B[0m \u001B[0;32mfrom\u001B[0m \u001B[0mmodel\u001B[0m\u001B[0;34m.\u001B[0m\u001B[0mlinear_system\u001B[0m \u001B[0;32mimport\u001B[0m \u001B[0mLinearSystem\u001B[0m\u001B[0;34m\u001B[0m\u001B[0;34m\u001B[0m\u001B[0m\n\u001B[0;32m---> 19\u001B[0;31m \u001B[0;32mfrom\u001B[0m \u001B[0mmodel\u001B[0m\u001B[0;34m.\u001B[0m\u001B[0mkf\u001B[0m \u001B[0;32mimport\u001B[0m \u001B[0mKF\u001B[0m\u001B[0;34m\u001B[0m\u001B[0;34m\u001B[0m\u001B[0m\n\u001B[0m\u001B[1;32m     20\u001B[0m \u001B[0;32mfrom\u001B[0m \u001B[0mmodel\u001B[0m\u001B[0;34m.\u001B[0m\u001B[0manalytical_kf\u001B[0m \u001B[0;32mimport\u001B[0m \u001B[0mAnalyticalKF\u001B[0m\u001B[0;34m\u001B[0m\u001B[0;34m\u001B[0m\u001B[0m\n\u001B[1;32m     21\u001B[0m \u001B[0;32mfrom\u001B[0m \u001B[0mmodel\u001B[0m\u001B[0;34m.\u001B[0m\u001B[0mrnn_kf\u001B[0m \u001B[0;32mimport\u001B[0m \u001B[0;34m*\u001B[0m\u001B[0;34m\u001B[0m\u001B[0;34m\u001B[0m\u001B[0m\n",
      "\u001B[0;32m~/Desktop/College/KF_RNN/model/kf.py\u001B[0m in \u001B[0;36m<module>\u001B[0;34m\u001B[0m\n\u001B[1;32m     10\u001B[0m \u001B[0;34m\u001B[0m\u001B[0m\n\u001B[1;32m     11\u001B[0m \u001B[0;34m\u001B[0m\u001B[0m\n\u001B[0;32m---> 12\u001B[0;31m \u001B[0;32mclass\u001B[0m \u001B[0mKF\u001B[0m\u001B[0;34m(\u001B[0m\u001B[0mnn\u001B[0m\u001B[0;34m.\u001B[0m\u001B[0mModule\u001B[0m\u001B[0;34m)\u001B[0m\u001B[0;34m:\u001B[0m\u001B[0;34m\u001B[0m\u001B[0;34m\u001B[0m\u001B[0m\n\u001B[0m\u001B[1;32m     13\u001B[0m     \u001B[0;34m@\u001B[0m\u001B[0mclassmethod\u001B[0m\u001B[0;34m\u001B[0m\u001B[0;34m\u001B[0m\u001B[0m\n\u001B[1;32m     14\u001B[0m     def evaluate_run(cls,\n",
      "\u001B[0;32m~/Desktop/College/KF_RNN/model/kf.py\u001B[0m in \u001B[0;36mKF\u001B[0;34m()\u001B[0m\n\u001B[1;32m     13\u001B[0m     \u001B[0;34m@\u001B[0m\u001B[0mclassmethod\u001B[0m\u001B[0;34m\u001B[0m\u001B[0;34m\u001B[0m\u001B[0m\n\u001B[1;32m     14\u001B[0m     def evaluate_run(cls,\n\u001B[0;32m---> 15\u001B[0;31m                      \u001B[0mresult\u001B[0m\u001B[0;34m:\u001B[0m \u001B[0mtorch\u001B[0m\u001B[0;34m.\u001B[0m\u001B[0mTensor\u001B[0m \u001B[0;34m|\u001B[0m \u001B[0mfloat\u001B[0m\u001B[0;34m,\u001B[0m\u001B[0;34m\u001B[0m\u001B[0;34m\u001B[0m\u001B[0m\n\u001B[0m\u001B[1;32m     16\u001B[0m                      \u001B[0mtarget\u001B[0m\u001B[0;34m:\u001B[0m \u001B[0mtorch\u001B[0m\u001B[0;34m.\u001B[0m\u001B[0mTensor\u001B[0m \u001B[0;34m|\u001B[0m \u001B[0mfloat\u001B[0m\u001B[0;34m,\u001B[0m\u001B[0;34m\u001B[0m\u001B[0;34m\u001B[0m\u001B[0m\n\u001B[1;32m     17\u001B[0m                      \u001B[0mmask\u001B[0m\u001B[0;34m:\u001B[0m \u001B[0mtorch\u001B[0m\u001B[0;34m.\u001B[0m\u001B[0mTensor\u001B[0m \u001B[0;34m=\u001B[0m \u001B[0;32mNone\u001B[0m\u001B[0;34m,\u001B[0m\u001B[0;34m\u001B[0m\u001B[0;34m\u001B[0m\u001B[0m\n",
      "\u001B[0;31mTypeError\u001B[0m: unsupported operand type(s) for |: 'torch._C._TensorMeta' and 'type'"
     ]
    }
   ],
   "source": [
    "#@title Library Setup\n",
    "import collections\n",
    "import numpy as np\n",
    "import matplotlib.pyplot as plt\n",
    "from typing import *\n",
    "from argparse import Namespace\n",
    "import copy\n",
    "import itertools\n",
    "import math\n",
    "import torch\n",
    "import torch.nn as nn\n",
    "import torch.nn.functional as Fn\n",
    "import torch.utils as ptu\n",
    "import tensordict\n",
    "from tensordict import TensorDict\n",
    "from matplotlib.collections import PolyCollection\n",
    "\n",
    "from model.linear_system import LinearSystem\n",
    "from model.kf import KF\n",
    "from model.analytical_kf import AnalyticalKF\n",
    "from model.rnn_kf import *\n",
    "from model.cnn_kf import *\n",
    "\n",
    "from infrastructure import utils, loader, validate\n",
    "from infrastructure.settings import device, dtype\n",
    "from infrastructure.train import *\n",
    "from infrastructure.experiment import *\n",
    "\n",
    "torch.set_default_dtype(dtype)\n",
    "\n",
    "if device == 'xla':\n",
    "    !pip install torch-xla cloud-tpu-client https://storage.googleapis.com/tpu-pytorch/wheels/colab/torch_xla-2.0-cp310-cp310-linux_x86_64.whl\n",
    "    import torch_xla\n",
    "    import torch_xla.core.xla_model as xm\n",
    "\n",
    "plt.rcParams['figure.figsize'] = (7.0, 5.0) # set default size of plots\n",
    "plt.rcParams['image.interpolation'] = 'nearest'\n",
    "plt.rcParams['image.cmap'] = 'gray'"
   ]
  },
  {
   "cell_type": "code",
   "source": [
    "modelArgs = Namespace(\n",
    "    S_D = 3,\n",
    "    I_D = 3,\n",
    "    O_D = 2,\n",
    "    SNR = 2.,\n",
    "    ir_length = 2,\n",
    "    input_enabled = False\n",
    ")\n",
    "B, L = 1, 16\n",
    "\n",
    "system = LinearSystem.sample_stable_system(modelArgs).to(device)\n",
    "optimal_kf = AnalyticalKF(system).to(device)\n",
    "rnn_kf = RnnKF(modelArgs).to(device).train()\n",
    "cnn_kf = CnnKF(modelArgs).to(device).train()\n",
    "cnn_kf_lstsq = CnnKFLeastSquares(modelArgs).to(device).train()\n",
    "\n",
    "test_trace = TensorDict({\n",
    "    'state': torch.randn((B, modelArgs.S_D)),\n",
    "    'input': torch.randn((B, L, modelArgs.I_D)),\n",
    "    'observation': torch.randn((B, L, modelArgs.O_D))\n",
    "}, batch_size=(B,), device=device)\n",
    "\n",
    "lstsq, err = cnn_kf_lstsq._least_squares_initialization(test_trace)\n",
    "cnn_kf_lstsq.input_IR.data = lstsq['input_IR']\n",
    "cnn_kf_lstsq.observation_IR.data = lstsq['observation_IR']\n",
    "\n",
    "# print(system(test_state, test_inputs))\n",
    "# print(optimal_kf(test_state, test_inputs, test_observations))\n",
    "with torch.set_grad_enabled(False):\n",
    "    result1 = rnn_kf(test_trace, mode='sequential')\n",
    "    result2 = rnn_kf(test_trace, mode='form')\n",
    "    result3 = rnn_kf(test_trace, mode='form_sqrt')\n",
    "torch.set_grad_enabled(True)\n",
    "\n",
    "# print(torch.norm(result1['state_estimation'] - result2['state_estimation']))\n",
    "# print(torch.norm(result1['observation_estimation'] - result2['observation_estimation']))\n",
    "print(result1['observation_estimation'])\n",
    "print(result2['observation_estimation'])\n",
    "print(result3['observation_estimation'])\n",
    "\n",
    "result4 = cnn_kf(test_trace)\n",
    "print(result4['observation_estimation'])\n",
    "\n",
    "result5 = cnn_kf_lstsq(test_trace)\n",
    "print(result5['observation_estimation'])"
   ],
   "metadata": {
    "colab": {
     "base_uri": "https://localhost:8080/"
    },
    "id": "k0CCnpY3yIej",
    "executionInfo": {
     "status": "ok",
     "timestamp": 1700087682294,
     "user_tz": 480,
     "elapsed": 452,
     "user": {
      "displayName": "Saagar Sanghavi",
      "userId": "09597830538261924392"
     }
    },
    "outputId": "97973d3d-51cd-4ccb-8cb0-51a75491312f"
   },
   "execution_count": null,
   "outputs": []
  },
  {
   "cell_type": "code",
   "execution_count": null,
   "outputs": [],
   "source": [
    "#@title Plotting Code\n",
    "n_idx = 0\n",
    "\n",
    "def plot_experiment(\n",
    "        args: Namespace,\n",
    "        configurations: OrderedDict,\n",
    "        systems: List[LinearSystem],\n",
    "        result: Dict[str, torch.Tensor | np.ndarray[TensorDict]],\n",
    "        base_exp_name: str,\n",
    "        output_dir: str,\n",
    "        clip: float=1e-6,\n",
    "        histogram: float=False\n",
    "):\n",
    "    plt.rcParams['figure.figsize'] = (8.0, 6.0)\n",
    "    exp_name = f'{output_dir}/{base_exp_name}'\n",
    "\n",
    "    seq_lengths = torch.tensor(configurations[-1][1]['train.total_train_sequence_length'], device=device)\n",
    "    learned_kf_arr = result['learned_kf']\n",
    "    M = result['metric']\n",
    "    # snvl_ = (M.l - M.eil).squeeze(-1)\n",
    "    snvl_ = (M.al - M.il).squeeze(-1)\n",
    "\n",
    "    # Plotting function\n",
    "    def make_plot_for_learned_kfs(snvl: torch.Tensor, name: object, color: np.ndarray):\n",
    "        name = str(name)\n",
    "        if len(name) > 50:\n",
    "            name = name[:50]\n",
    "\n",
    "        quantiles = torch.tensor([0.25, 0.75], device=device)\n",
    "        # snvl_median = snvl.median(-1).values.median(-1).values\n",
    "        # snvl_train_quantiles = torch.quantile(snvl.median(-1).values, quantiles, dim=-1)\n",
    "        # snvl_valid_quantiles = torch.quantile(snvl, quantiles, dim=-1).median(-1).values\n",
    "        snvl_median = snvl.median(-1).values\n",
    "        snvl_train_quantiles = torch.quantile(snvl, quantiles, dim=-1)\n",
    "\n",
    "        # Compute the best fit line\n",
    "        log_seq_lengths, log_snvl_median = torch.log(seq_lengths), torch.log(snvl_median)\n",
    "        augmented_log_seq_lengths = torch.stack([log_seq_lengths, torch.ones_like(log_seq_lengths)], dim=-1)\n",
    "        line = (torch.linalg.pinv(augmented_log_seq_lengths) @ log_snvl_median.unsqueeze(-1))\n",
    "        snvl_median_fit = torch.exp(augmented_log_seq_lengths @ line).squeeze(-1)\n",
    "\n",
    "        # Generate the plots\n",
    "        plt.plot(seq_lengths.cpu(), snvl_median[n_idx].cpu(), color=color, marker='.', markersize=16, label=f'{name}_median')\n",
    "        # plt.fill_between(\n",
    "        #     seq_lengths.cpu(),\n",
    "        #     snvl_valid_quantiles[0, n_idx, :].clamp_min(clip).cpu(),\n",
    "        #     snvl_valid_quantiles[1, n_idx, :].clamp_min(clip).cpu(),\n",
    "        #     color=color,\n",
    "        #     alpha=0.1,\n",
    "        #     label=f'{name}_validation_quartiles'\n",
    "        # )\n",
    "        plt.fill_between(\n",
    "            seq_lengths.cpu(),\n",
    "            snvl_train_quantiles[0, n_idx, :].clamp_min(clip).cpu(),\n",
    "            snvl_train_quantiles[1, n_idx, :].clamp_min(clip).cpu(),\n",
    "            color=color,\n",
    "            alpha=0.3,\n",
    "            label=f'{name}_training_quartiles'\n",
    "        )\n",
    "        plt.plot(\n",
    "            seq_lengths.cpu(),\n",
    "            snvl_median_fit[n_idx].cpu(),\n",
    "            color='black',\n",
    "            linestyle='dashed',\n",
    "            label=f'$y = {line[n_idx, 1].exp().item()}x^\\u007B{line[n_idx, 0].item()}\\u007D$'\n",
    "        )\n",
    "\n",
    "    color_list = np.array([\n",
    "        [76, 186, 182],\n",
    "        [237, 125, 102],\n",
    "        [127, 113, 240],\n",
    "        [247, 214, 124]\n",
    "    ], dtype=float) / 255\n",
    "\n",
    "    hp_name, _ = configurations[0]\n",
    "    hp_list = _.get('name', list(_.values())[0])\n",
    "    for i, hp_value in enumerate(hp_list):\n",
    "        make_plot_for_learned_kfs(snvl_[i].transpose(0, 1), hp_value, color_list[i])\n",
    "\n",
    "    plt.xscale('log')\n",
    "    plt.xlabel('total_trace_length')\n",
    "    plt.yscale('log')\n",
    "    plt.ylabel(r'normalized_validation_loss: $\\frac{1}{L}|| F_\\theta(\\tau) - \\tau ||^2 - || KF(\\tau) - \\tau ||^2$')\n",
    "    plt.title(exp_name)\n",
    "    plt.legend(fontsize=6)\n",
    "    plt.show()\n",
    "\n",
    "    if histogram:\n",
    "        def make_histogram_plot(snvl: torch.Tensor, name: str, color: np.ndarray):\n",
    "            snvl_ttl = snvl[n_idx, seq_lengths.tolist().index(2000)].flatten().clamp_min(clip)\n",
    "            bins = torch.exp(torch.linspace(\n",
    "                torch.log(torch.min(snvl_ttl)),\n",
    "                torch.log(torch.max(snvl_ttl)),\n",
    "                n_bins + 1\n",
    "            ))\n",
    "            plt.hist(snvl_ttl, bins, color=color, alpha=0.4, label=name)\n",
    "\n",
    "        n_bins = 64\n",
    "        for i, seq_length in enumerate(seq_lengths.tolist()):\n",
    "            snvl_ttl_difference = (snvl_[1] - snvl_[0]).transpose(0, 1)[n_idx, i].flatten()\n",
    "            diff_threshold = 0\n",
    "            print(f'{torch.sum(snvl_ttl_difference > diff_threshold).item()} / {snvl_ttl_difference.numel()} greater than {diff_threshold}')\n",
    "\n",
    "            bins = torch.linspace(torch.min(snvl_ttl_difference), torch.max(snvl_ttl_difference), n_bins + 1)\n",
    "            counts, bins, _ = plt.hist(snvl_ttl_difference, bins, color=color_list[-1], alpha=0.5, label=f'{hp_list[1]} - {hp_list[0]}')\n",
    "            plt.plot([diff_threshold, diff_threshold], [0, max(counts)], color='black', linestyle='dashed')\n",
    "            plt.title(f'train_sequence_length{seq_length} difference histogram')\n",
    "\n",
    "            plt.legend()\n",
    "            plt.show()\n",
    "\n",
    "\n",
    "def plot_comparison(\n",
    "        args: Namespace,\n",
    "        configurations: OrderedDict,\n",
    "        systems: List[LinearSystem],\n",
    "        learned_kf_arr: np.ndarray[TensorDict],\n",
    "        base_exp_name: str,\n",
    "        output_dir: str,\n",
    "        log_xscale: bool\n",
    "):\n",
    "    plt.rcParams['figure.figsize'] = (8.0, 6.0)\n",
    "    exp_name = f'{output_dir}/{base_exp_name}'\n",
    "\n",
    "    outer_hp_name, _ = configurations[0]\n",
    "    outer_hp_values = _.get('name', list(_.values())[0])\n",
    "\n",
    "    inner_hp_name, _ = configurations[1]\n",
    "    inner_hp_values = _.get('name', list(_.values())[0])\n",
    "\n",
    "    learned_kf_arr = result['learned_kf']\n",
    "    M = result['metric']\n",
    "    # snvl_ = (M.l - M.eil).cpu()\n",
    "    # snvl_median = snvl_.median(-1).values.median(-1).values.permute(-1, *range(snvl_.ndim - 3))[n_idx]\n",
    "\n",
    "    snvl_ = (M.al - M.il).squeeze(-1).cpu()\n",
    "    snvl_median = snvl_.median(-1).values.permute(-1, *range(snvl_.ndim - 2))[n_idx]\n",
    "\n",
    "    c = plt.cm.pink(np.linspace(0, 0.8, len(outer_hp_values)))\n",
    "    for i, outer_hp_value in enumerate(outer_hp_values):\n",
    "        plt.plot(inner_hp_values, snvl_median[i], c=c[i], marker='.', markersize=16, label=f'{outer_hp_name}{outer_hp_value}')\n",
    "        argmin = torch.argmin(snvl_median[i])\n",
    "        plt.scatter([inner_hp_values[argmin]], [snvl_median[i, argmin]], c=c[i] * 0.5, s=256, marker='*')\n",
    "    # Use snvl_median[:, 0, i] for multiple RNN initializations\n",
    "\n",
    "    plt.xlabel(inner_hp_name)\n",
    "    if log_xscale:\n",
    "        plt.xscale('log')\n",
    "    # plt.xticks(hp_values)\n",
    "    # plt.gca().xaxis.set_major_formatter(matplotlib.ticker.ScalarFormatter())\n",
    "    plt.ylabel(r'normalized_validation_loss: $\\frac{1}{L}|| F_\\theta(\\tau) - \\tau ||^2 - || KF(\\tau) - \\tau ||^2$')\n",
    "    plt.yscale('log')\n",
    "    plt.title(exp_name)\n",
    "    plt.legend(fontsize=6)\n",
    "\n",
    "    plt.show()"
   ],
   "metadata": {
    "collapsed": false,
    "pycharm": {
     "name": "#%%\n"
    }
   }
  },
  {
   "cell_type": "markdown",
   "metadata": {
    "id": "Zi9Hzsb9ndKp"
   },
   "source": [
    "# Adversarial Systems"
   ]
  },
  {
   "cell_type": "code",
   "execution_count": null,
   "outputs": [],
   "source": [
    "#@title Adversarial Systems\n",
    "\n",
    "base_exp_name = 'AdversarialSystemsBasicDebug2'\n",
    "output_dir = 'system2_CNN'\n",
    "output_fname = 'result'\n",
    "\n",
    "system2, args = loader.load_system_and_args('data/2dim_scalar_system_matrices')\n",
    "systems = [system2]\n",
    "\n",
    "args.model.model = CnnKFAnalyticalLeastSquares\n",
    "args.model.ir_length = 8\n",
    "args.experiment.ensemble_size = 1\n",
    "args.experiment.metrics = {'analytical_validation'}\n",
    "args.experiment.exp_name = base_exp_name\n",
    "\n",
    "configurations = []\n",
    "\n",
    "result = run_experiments(\n",
    "    args, configurations, {\n",
    "        'dir': output_dir,\n",
    "        'fname': output_fname\n",
    "    }, systems\n",
    ")"
   ],
   "metadata": {
    "collapsed": false,
    "pycharm": {
     "name": "#%%\n"
    }
   }
  },
  {
   "cell_type": "code",
   "execution_count": null,
   "metadata": {
    "id": "1zBSjk02yXHW",
    "executionInfo": {
     "status": "aborted",
     "timestamp": 1700087742001,
     "user_tz": 480,
     "elapsed": 3,
     "user": {
      "displayName": "Saagar Sanghavi",
      "userId": "09597830538261924392"
     }
    }
   },
   "outputs": [],
   "source": [
    "for k, v in result['system_ptr'].items():\n",
    "    v.grad = None\n",
    "observation_IR = result['learned_kf'][()][1][0, 0]['observation_IR']\n",
    "observation_IR.sum().backward()\n",
    "for k, v in result['system_ptr'].items():\n",
    "    print(f\"{k}: {v.grad}\")"
   ]
  }
 ],
 "metadata": {
  "accelerator": "GPU",
  "colab": {
   "machine_shape": "hm",
   "provenance": [
    {
     "file_id": "1lcHhNw_r_eetYfC5dd7wEm_Cgw7yytr7",
     "timestamp": 1698522777293
    },
    {
     "file_id": "1q9Qx12ZP6MjTkUXpm6XF0Tw68M9eUD0c",
     "timestamp": 1693268309398
    }
   ],
   "gpuType": "T4"
  },
  "kernelspec": {
   "display_name": "Python 3",
   "name": "python3"
  },
  "language_info": {
   "name": "python"
  }
 },
 "nbformat": 4,
 "nbformat_minor": 0
}