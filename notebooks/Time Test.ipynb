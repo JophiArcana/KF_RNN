{
 "cells": [
  {
   "cell_type": "code",
   "execution_count": null,
   "metadata": {
    "id": "QupgVmcZgvyx"
   },
   "outputs": [],
   "source": [
    "## Created by Wentinn Liao"
   ]
  },
  {
   "cell_type": "markdown",
   "metadata": {
    "id": "k722vkzdWafR"
   },
   "source": [
    "# Kalman Filter Research"
   ]
  },
  {
   "cell_type": "code",
   "execution_count": null,
   "metadata": {
    "id": "S27iMYAOuWiB",
    "colab": {
     "base_uri": "https://localhost:8080/"
    },
    "executionInfo": {
     "status": "ok",
     "timestamp": 1700087655720,
     "user_tz": 480,
     "elapsed": 35466,
     "user": {
      "displayName": "Saagar Sanghavi",
      "userId": "09597830538261924392"
     }
    },
    "outputId": "c8f3562b-c8ac-4ca6-ecfa-0c4b0b0ca5b4"
   },
   "outputs": [],
   "source": [
    "#@title Mount Google Drive\n",
    "from google.colab import drive\n",
    "drive.mount('/content/gdrive')"
   ]
  },
  {
   "cell_type": "code",
   "execution_count": null,
   "metadata": {
    "id": "0xHh9PF6hl3R",
    "colab": {
     "base_uri": "https://localhost:8080/"
    },
    "executionInfo": {
     "status": "ok",
     "timestamp": 1700087664916,
     "user_tz": 480,
     "elapsed": 295,
     "user": {
      "displayName": "Saagar Sanghavi",
      "userId": "09597830538261924392"
     }
    },
    "outputId": "0a41d600-39ca-4b96-d20b-46e044c49018"
   },
   "outputs": [],
   "source": [
    "#@title Symlink Setup\n",
    "import os\n",
    "\n",
    "def ptpp(PATH: str) -> str: # Converts path to python path\n",
    "    return PATH.replace('\\\\', '')\n",
    "\n",
    "DRIVE_PATH = '/content/gdrive/My\\ Drive/KF_RNN'\n",
    "if not os.path.exists(ptpp(DRIVE_PATH)):\n",
    "    %mkdir $DRIVE_PATH\n",
    "SYM_PATH = '/content/KF_RNN'\n",
    "if not os.path.exists(ptpp(SYM_PATH)):\n",
    "    !ln -s $DRIVE_PATH $SYM_PATH\n",
    "%cd $SYM_PATH"
   ]
  },
  {
   "cell_type": "code",
   "execution_count": null,
   "metadata": {
    "id": "-h7SwLD3uWiC",
    "colab": {
     "base_uri": "https://localhost:8080/"
    },
    "executionInfo": {
     "status": "ok",
     "timestamp": 1700087672415,
     "user_tz": 480,
     "elapsed": 7177,
     "user": {
      "displayName": "Saagar Sanghavi",
      "userId": "09597830538261924392"
     }
    },
    "outputId": "3b36de1b-162a-4abc-e7cd-910833811c01"
   },
   "outputs": [],
   "source": [
    "!pip install numpy imageio matplotlib scikit-learn torch tensordict"
   ]
  },
  {
   "cell_type": "code",
   "execution_count": null,
   "metadata": {
    "id": "9pbdKYaruWiD",
    "executionInfo": {
     "status": "ok",
     "timestamp": 1700087672415,
     "user_tz": 480,
     "elapsed": 3,
     "user": {
      "displayName": "Saagar Sanghavi",
      "userId": "09597830538261924392"
     }
    }
   },
   "outputs": [],
   "source": [
    "#@title Configure Jupyter Notebook\n",
    "import matplotlib\n",
    "%matplotlib inline\n",
    "%load_ext autoreload\n",
    "%autoreload 2"
   ]
  },
  {
   "cell_type": "code",
   "execution_count": null,
   "metadata": {
    "id": "uK2SmUy3uWiD",
    "executionInfo": {
     "status": "ok",
     "timestamp": 1700087681844,
     "user_tz": 480,
     "elapsed": 9431,
     "user": {
      "displayName": "Saagar Sanghavi",
      "userId": "09597830538261924392"
     }
    }
   },
   "outputs": [],
   "source": [
    "#@title Library Setup\n",
    "import numpy as np\n",
    "import matplotlib.pyplot as plt\n",
    "from typing import *\n",
    "from argparse import Namespace\n",
    "import copy\n",
    "import time\n",
    "import math\n",
    "import itertools\n",
    "import torch\n",
    "import torch.nn as nn\n",
    "import torch.nn.functional as Fn\n",
    "import torch.utils as ptu\n",
    "import tensordict\n",
    "from tensordict import TensorDict\n",
    "\n",
    "from model.linear_system import LinearSystem\n",
    "from model.kf import KF\n",
    "from model.rnn_kf import RnnKF\n",
    "\n",
    "from infrastructure import utils\n",
    "from infrastructure.train import *\n",
    "\n",
    "# seed = 7\n",
    "# torch.manual_seed(seed)\n",
    "# random.seed(seed)\n",
    "torch.set_default_dtype(torch.double)\n",
    "\n",
    "dev_type = 'cuda'\n",
    "if dev_type == 'xla':\n",
    "    !pip install torch-xla cloud-tpu-client https://storage.googleapis.com/tpu-pytorch/wheels/colab/torch_xla-2.0-cp310-cp310-linux_x86_64.whl\n",
    "    import torch_xla\n",
    "    import torch_xla.core.xla_model as xm\n",
    "\n",
    "plt.rcParams['figure.figsize'] = (7.0, 5.0) # set default size of plots\n",
    "plt.rcParams['image.interpolation'] = 'nearest'\n",
    "plt.rcParams['image.cmap'] = 'gray'"
   ]
  },
  {
   "cell_type": "code",
   "source": [
    "S_D, I_D, O_D, SNR = 2, 2, 1, 2.\n",
    "B, L = 1, 4\n",
    "\n",
    "system = LinearSystem.sample_stable_system(Namespace(\n",
    "    S_D = S_D,\n",
    "    I_D = I_D,\n",
    "    O_D = O_D,\n",
    "    SNR = SNR\n",
    "))\n",
    "optimal_kf = KF(system)\n",
    "learned_kf = RnnKF(S_D, I_D, O_D)\n",
    "learned_kf.K = nn.Parameter(torch.randn(S_D, O_D))\n",
    "\n",
    "test_state = torch.randint(-10, 11, (B, S_D), dtype=float)\n",
    "test_inputs = torch.randint(-10, 11, (B, L, I_D), dtype=float)\n",
    "test_observations = torch.randint(-10, 11, (B, L, O_D), dtype=float)\n",
    "\n",
    "# print(system(test_state, test_inputs))\n",
    "# print(optimal_kf(test_state, test_inputs, test_observations))\n",
    "result1 = learned_kf(test_state, test_inputs, test_observations)\n",
    "result2 = learned_kf(test_state, test_inputs, test_observations, mode='form')\n",
    "result3 = learned_kf(test_state, test_inputs, test_observations, mode='form_sqrt')\n",
    "\n",
    "# print(torch.norm(result1['state_estimation'] - result2['state_estimation']))\n",
    "# print(torch.norm(result1['observation_estimation'] - result2['observation_estimation']))\n",
    "print(result1['state_estimation'])\n",
    "print(result2['state_estimation'])\n",
    "print(result3['state_estimation'])"
   ],
   "metadata": {
    "colab": {
     "base_uri": "https://localhost:8080/"
    },
    "id": "k0CCnpY3yIej",
    "executionInfo": {
     "status": "ok",
     "timestamp": 1700087682294,
     "user_tz": 480,
     "elapsed": 452,
     "user": {
      "displayName": "Saagar Sanghavi",
      "userId": "09597830538261924392"
     }
    },
    "outputId": "97973d3d-51cd-4ccb-8cb0-51a75491312f"
   },
   "execution_count": null,
   "outputs": []
  },
  {
   "cell_type": "markdown",
   "metadata": {
    "id": "Zi9Hzsb9ndKp"
   },
   "source": [
    "# Sample Complexity"
   ]
  },
  {
   "cell_type": "code",
   "execution_count": null,
   "metadata": {
    "id": "pQ5I3Zj7slTY",
    "executionInfo": {
     "status": "ok",
     "timestamp": 1700087682295,
     "user_tz": 480,
     "elapsed": 3,
     "user": {
      "displayName": "Saagar Sanghavi",
      "userId": "09597830538261924392"
     }
    }
   },
   "outputs": [],
   "source": [
    "#@title Model Parameters\n",
    "ModelArgs = Namespace(\n",
    "    S_D = 6,\n",
    "    I_D = 6,\n",
    "    O_D = 4,\n",
    "    SNR = 2.\n",
    ")"
   ]
  },
  {
   "cell_type": "code",
   "execution_count": null,
   "metadata": {
    "id": "6Y8dOrQZLUF8",
    "executionInfo": {
     "status": "ok",
     "timestamp": 1700087682432,
     "user_tz": 480,
     "elapsed": 3,
     "user": {
      "displayName": "Saagar Sanghavi",
      "userId": "09597830538261924392"
     }
    }
   },
   "outputs": [],
   "source": [
    "#@title Training Parameters\n",
    "total_trace_lengths = sorted(set(torch.ceil(torch.pow(2, torch.arange(0., 12.5, 0.5))).to(int).tolist()))\n",
    "num_traces = sorted(set(torch.ceil(torch.pow(2, torch.arange(0., 6.5, 0.5))).to(int).tolist()))\n",
    "\n",
    "BaseTrainArgs = Namespace(\n",
    "    # Dataset\n",
    "    train_dataset_size = num_traces,\n",
    "    valid_dataset_size = 100,\n",
    "    total_train_sequence_length = total_trace_lengths,\n",
    "    total_valid_sequence_length = 20000,\n",
    "\n",
    "    # Batch sampling\n",
    "    subsequence_length = 10,\n",
    "    subsequence_initial_mode = \"random\",    # {\"random\", \"replay_buffer\"}\n",
    "    sample_efficiency = 5,\n",
    "    replay_buffer = 10,\n",
    "    batch_size = 128,\n",
    "\n",
    "    # Optimizer\n",
    "    beta = 0.1,\n",
    "    lr = 3e-4,\n",
    "    momentum = 0.9,\n",
    "    lr_decay = 0.99,\n",
    "    optim_type = \"Adam\",                    # {\"GD\", \"SGD\", \"SGDMomentum\", \"Adam\"}\n",
    "    l2_reg = 0.1,\n",
    "\n",
    "    # Iteration\n",
    "    iterations_per_epoch = 100,\n",
    "    epochs = 20\n",
    ")"
   ]
  },
  {
   "cell_type": "code",
   "source": [
    "system = LinearSystem.sample_stable_system(ModelArgs)\n",
    "kf = RnnKF(ModelArgs.S_D, ModelArgs.I_D, ModelArgs.O_D)\n",
    "optim, scheduler = get_optimizer(kf.parameters(), BaseTrainArgs)"
   ],
   "metadata": {
    "id": "6TDf5rbcUQha",
    "executionInfo": {
     "status": "ok",
     "timestamp": 1700087683108,
     "user_tz": 480,
     "elapsed": 679,
     "user": {
      "displayName": "Saagar Sanghavi",
      "userId": "09597830538261924392"
     }
    }
   },
   "execution_count": null,
   "outputs": []
  },
  {
   "cell_type": "code",
   "source": [
    "n_iter = 10\n",
    "B_ = 16\n",
    "\n",
    "average_times = dict()\n",
    "for mode, L in itertools.product(['serial', 'form', 'form_sqrt'], total_trace_lengths):\n",
    "    B = int(math.ceil(B_ * total_trace_lengths[-1] / L))\n",
    "    start_t = time.time_ns()\n",
    "    for _ in range(n_iter):\n",
    "        test_state = torch.randn((B, ModelArgs.S_D))\n",
    "        test_inputs = torch.randn((B, L, ModelArgs.I_D))\n",
    "        test_observations = torch.randn((B, L, ModelArgs.O_D))\n",
    "\n",
    "        result = kf(test_state, test_inputs, test_observations, mode=mode)['observation_estimation']\n",
    "        loss = torch.norm(result)\n",
    "\n",
    "        optim.zero_grad()\n",
    "        loss.backward()\n",
    "        optim.step()\n",
    "    end_t = time.time_ns()\n",
    "    print(f'Length {L} mode {mode}: {(avg_t := 1e-6 * (end_t - start_t) / n_iter)}')\n",
    "    average_times.setdefault(mode, []).append(avg_t)"
   ],
   "metadata": {
    "colab": {
     "base_uri": "https://localhost:8080/",
     "height": 0
    },
    "id": "Qa2Wfh0-UtCL",
    "executionInfo": {
     "status": "error",
     "timestamp": 1700087742000,
     "user_tz": 480,
     "elapsed": 58896,
     "user": {
      "displayName": "Saagar Sanghavi",
      "userId": "09597830538261924392"
     }
    },
    "outputId": "0f14241c-3336-4099-b6d4-1ace02827411"
   },
   "execution_count": null,
   "outputs": []
  },
  {
   "cell_type": "code",
   "source": [
    "for mode in ['serial', 'form', 'form_sqrt']:\n",
    "    plt.plot(total_trace_lengths, average_times[mode], marker='.', label=mode)\n",
    "plt.xscale('log')\n",
    "plt.yscale('log')\n",
    "plt.xlabel('Trace length')\n",
    "plt.ylabel('Time (ms)')\n",
    "plt.title('Single iteration time for batch size 16')\n",
    "plt.legend()\n",
    "plt.show()"
   ],
   "metadata": {
    "id": "zzxzS6BYYER0",
    "executionInfo": {
     "status": "aborted",
     "timestamp": 1700087742001,
     "user_tz": 480,
     "elapsed": 3,
     "user": {
      "displayName": "Saagar Sanghavi",
      "userId": "09597830538261924392"
     }
    }
   },
   "execution_count": null,
   "outputs": []
  },
  {
   "cell_type": "code",
   "execution_count": null,
   "metadata": {
    "id": "1zBSjk02yXHW",
    "executionInfo": {
     "status": "aborted",
     "timestamp": 1700087742001,
     "user_tz": 480,
     "elapsed": 3,
     "user": {
      "displayName": "Saagar Sanghavi",
      "userId": "09597830538261924392"
     }
    }
   },
   "outputs": [],
   "source": []
  }
 ],
 "metadata": {
  "accelerator": "GPU",
  "colab": {
   "machine_shape": "hm",
   "provenance": [
    {
     "file_id": "1lcHhNw_r_eetYfC5dd7wEm_Cgw7yytr7",
     "timestamp": 1698522777293
    },
    {
     "file_id": "1q9Qx12ZP6MjTkUXpm6XF0Tw68M9eUD0c",
     "timestamp": 1693268309398
    }
   ],
   "gpuType": "T4"
  },
  "kernelspec": {
   "display_name": "Python 3",
   "name": "python3"
  },
  "language_info": {
   "name": "python"
  }
 },
 "nbformat": 4,
 "nbformat_minor": 0
}