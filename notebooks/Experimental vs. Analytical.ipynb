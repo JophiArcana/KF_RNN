{
 "cells": [
  {
   "cell_type": "code",
   "execution_count": null,
   "metadata": {
    "id": "QupgVmcZgvyx",
    "executionInfo": {
     "status": "ok",
     "timestamp": 1698790932092,
     "user_tz": 420,
     "elapsed": 5,
     "user": {
      "displayName": "Wentinn Liao",
      "userId": "16122904268462266963"
     }
    }
   },
   "outputs": [],
   "source": [
    "## Created by Wentinn Liao"
   ]
  },
  {
   "cell_type": "markdown",
   "metadata": {
    "id": "k722vkzdWafR"
   },
   "source": [
    "# Kalman Filter Research"
   ]
  },
  {
   "cell_type": "code",
   "execution_count": null,
   "metadata": {
    "id": "S27iMYAOuWiB",
    "colab": {
     "base_uri": "https://localhost:8080/"
    },
    "executionInfo": {
     "status": "ok",
     "timestamp": 1698790948215,
     "user_tz": 420,
     "elapsed": 16127,
     "user": {
      "displayName": "Wentinn Liao",
      "userId": "16122904268462266963"
     }
    },
    "outputId": "ff97e228-7469-43a3-b063-9ecdae04db24"
   },
   "outputs": [],
   "source": [
    "#@title Mount Google Drive\n",
    "from google.colab import drive\n",
    "drive.mount('/content/gdrive')"
   ]
  },
  {
   "cell_type": "code",
   "execution_count": null,
   "metadata": {
    "id": "0xHh9PF6hl3R",
    "colab": {
     "base_uri": "https://localhost:8080/"
    },
    "executionInfo": {
     "status": "ok",
     "timestamp": 1698790948383,
     "user_tz": 420,
     "elapsed": 176,
     "user": {
      "displayName": "Wentinn Liao",
      "userId": "16122904268462266963"
     }
    },
    "outputId": "e601dc89-25bd-4bbc-efe5-f6b7a3ceca2c"
   },
   "outputs": [],
   "source": [
    "#@title Symlink Setup\n",
    "import os\n",
    "\n",
    "def ptpp(PATH: str) -> str: # Converts path to python path\n",
    "    return PATH.replace('\\\\', '')\n",
    "\n",
    "DRIVE_PATH = '/content/gdrive/My\\ Drive/KF_RNN'\n",
    "if not os.path.exists(ptpp(DRIVE_PATH)):\n",
    "    %mkdir $DRIVE_PATH\n",
    "SYM_PATH = '/content/KF_RNN'\n",
    "if not os.path.exists(ptpp(SYM_PATH)):\n",
    "    !ln -s $DRIVE_PATH $SYM_PATH\n",
    "%cd $SYM_PATH"
   ]
  },
  {
   "cell_type": "code",
   "execution_count": null,
   "metadata": {
    "id": "-h7SwLD3uWiC",
    "colab": {
     "base_uri": "https://localhost:8080/"
    },
    "executionInfo": {
     "status": "ok",
     "timestamp": 1698791166460,
     "user_tz": 420,
     "elapsed": 200047,
     "user": {
      "displayName": "Wentinn Liao",
      "userId": "16122904268462266963"
     }
    },
    "outputId": "6c12c858-e359-4719-c469-38fd9731b034"
   },
   "outputs": [],
   "source": [
    "!pip install numpy imageio matplotlib scikit-learn torch==2.0.0 tensordict"
   ]
  },
  {
   "cell_type": "code",
   "execution_count": null,
   "metadata": {
    "id": "9pbdKYaruWiD",
    "executionInfo": {
     "status": "ok",
     "timestamp": 1698791166609,
     "user_tz": 420,
     "elapsed": 158,
     "user": {
      "displayName": "Wentinn Liao",
      "userId": "16122904268462266963"
     }
    }
   },
   "outputs": [],
   "source": [
    "#@title Configure Jupyter Notebook\n",
    "import matplotlib\n",
    "%matplotlib inline\n",
    "%load_ext autoreload\n",
    "%autoreload 2"
   ]
  },
  {
   "cell_type": "code",
   "execution_count": null,
   "metadata": {
    "id": "uK2SmUy3uWiD",
    "executionInfo": {
     "status": "ok",
     "timestamp": 1698791178032,
     "user_tz": 420,
     "elapsed": 11424,
     "user": {
      "displayName": "Wentinn Liao",
      "userId": "16122904268462266963"
     }
    },
    "colab": {
     "base_uri": "https://localhost:8080/"
    },
    "outputId": "38dc9cca-0be5-4cbb-828c-bc2c7ed612ad"
   },
   "outputs": [],
   "source": [
    "#@title Library Setup\n",
    "import time\n",
    "import json\n",
    "import pickle\n",
    "import math\n",
    "import functools\n",
    "import numpy as np\n",
    "import scipy as sc\n",
    "import sympy as sy\n",
    "import matplotlib.pyplot as plt\n",
    "from tqdm import tqdm\n",
    "from typing import *\n",
    "from argparse import Namespace\n",
    "import random\n",
    "import copy\n",
    "import itertools\n",
    "import torch\n",
    "import torch.nn as nn\n",
    "import torch.nn.functional as Fn\n",
    "import torch.utils as ptu\n",
    "import torch.optim as optim\n",
    "import torchdata\n",
    "import torchvision\n",
    "from torchvision import datasets, transforms\n",
    "import tensordict\n",
    "from tensordict import TensorDict\n",
    "\n",
    "from model.linear_system import LinearSystem\n",
    "from model.kf import KF\n",
    "from model.rnn_kf import RnnKF\n",
    "\n",
    "from infrastructure import utils\n",
    "from infrastructure.train import *\n",
    "\n",
    "# seed = 7\n",
    "# torch.manual_seed(seed)\n",
    "# random.seed(seed)\n",
    "torch.set_default_dtype(torch.double)\n",
    "\n",
    "dev_type = 'cuda'\n",
    "if dev_type == 'xla':\n",
    "    !pip install torch-xla cloud-tpu-client https://storage.googleapis.com/tpu-pytorch/wheels/colab/torch_xla-2.0-cp310-cp310-linux_x86_64.whl\n",
    "    import torch_xla\n",
    "    import torch_xla.core.xla_model as xm\n",
    "\n",
    "plt.rcParams['figure.figsize'] = (7.0, 5.0) # set default size of plots\n",
    "plt.rcParams['image.interpolation'] = 'nearest'\n",
    "plt.rcParams['image.cmap'] = 'gray'"
   ]
  },
  {
   "cell_type": "markdown",
   "metadata": {
    "id": "yI-CrQQZr7LL"
   },
   "source": [
    "# Experimental vs. Analytical Performance"
   ]
  },
  {
   "cell_type": "code",
   "execution_count": null,
   "metadata": {
    "id": "is5F5BP4kgp6",
    "executionInfo": {
     "status": "ok",
     "timestamp": 1698791200863,
     "user_tz": 420,
     "elapsed": 3188,
     "user": {
      "displayName": "Wentinn Liao",
      "userId": "16122904268462266963"
     }
    }
   },
   "outputs": [],
   "source": [
    "S_D, I_D, O_D, SNR = 6, 6, 4, 2.\n",
    "dataset_size = 10000\n",
    "sequence_length = 200\n",
    "\n",
    "system = LinearSystem.sample_stable_system(Namespace(\n",
    "    S_D = S_D,\n",
    "    I_D = I_D,\n",
    "    O_D = O_D,\n",
    "    SNR = SNR\n",
    "))\n",
    "\n",
    "initial_state = torch.randn(dataset_size, S_D)\n",
    "input = torch.randn(dataset_size, sequence_length, I_D)\n",
    "\n",
    "result = system(initial_state, input)\n",
    "state, observation = result['state'], result['observation']"
   ]
  },
  {
   "cell_type": "code",
   "execution_count": null,
   "metadata": {
    "id": "j4XGJ5ubqJea",
    "colab": {
     "base_uri": "https://localhost:8080/"
    },
    "executionInfo": {
     "status": "ok",
     "timestamp": 1698791201935,
     "user_tz": 420,
     "elapsed": 1074,
     "user": {
      "displayName": "Wentinn Liao",
      "userId": "16122904268462266963"
     }
    },
    "outputId": "332c0cf2-15cd-4be9-c384-1fe69193d908"
   },
   "outputs": [],
   "source": [
    "optimal_kf = KF(system)\n",
    "result = optimal_kf(initial_state, input, observation)\n",
    "\n",
    "state_estimation_error = result['state_estimation'] - state\n",
    "observation_estimation_error = result['observation_estimation'] - observation\n",
    "\n",
    "experimental_state_covariances, experimental_observation_covariances = [], []\n",
    "for i in range(sequence_length):\n",
    "    state_error = state_estimation_error[:, i]\n",
    "    experimental_state_covariances.append(state_error.T @ state_error / dataset_size)\n",
    "\n",
    "    observation_error = observation_estimation_error[:, i]\n",
    "    experimental_observation_covariances.append(observation_error.T @ observation_error / dataset_size)\n",
    "experimental_state_covariance = torch.stack(experimental_state_covariances)\n",
    "experimental_observation_covariance = torch.stack(experimental_observation_covariances)\n",
    "\n",
    "print(Fn.mse_loss(experimental_state_covariance, result['state_covariance']))\n",
    "print(Fn.mse_loss(experimental_observation_covariance, result['observation_covariance']))"
   ]
  },
  {
   "cell_type": "code",
   "execution_count": null,
   "metadata": {
    "id": "kniVXzf46fWe",
    "colab": {
     "base_uri": "https://localhost:8080/",
     "height": 445
    },
    "executionInfo": {
     "status": "ok",
     "timestamp": 1698791278328,
     "user_tz": 420,
     "elapsed": 1447,
     "user": {
      "displayName": "Wentinn Liao",
      "userId": "16122904268462266963"
     }
    },
    "outputId": "ad712ae3-0443-474c-f61d-c1251a9acffe"
   },
   "outputs": [],
   "source": [
    "_, analytical_S, _ = torch.linalg.svd(system.S_observation_inf)\n",
    "_, experimental_S, _ = torch.linalg.svd(experimental_observation_covariance)\n",
    "for i in range(O_D):\n",
    "    x = torch.arange(sequence_length)\n",
    "    c = utils.color(i, scale=2 * O_D)\n",
    "    plt.plot(x, experimental_S[:, i], color=c, label=f'Experimental $\\sigma_{i}$')\n",
    "    plt.plot(x, torch.full_like(x, analytical_S[i]), color=c / 2, linestyle='--', label=f'Analytical steady state $\\sigma_{i}$')\n",
    "plt.ylim(bottom=0)\n",
    "plt.legend()\n",
    "plt.show()"
   ]
  },
  {
   "cell_type": "code",
   "execution_count": null,
   "metadata": {
    "id": "Wz_5aq7bQq3e",
    "colab": {
     "base_uri": "https://localhost:8080/",
     "height": 1000
    },
    "executionInfo": {
     "status": "ok",
     "timestamp": 1698791290982,
     "user_tz": 420,
     "elapsed": 12659,
     "user": {
      "displayName": "Wentinn Liao",
      "userId": "16122904268462266963"
     }
    },
    "outputId": "6cd2ad8e-001b-43ff-d2d6-7d6da480a8c5"
   },
   "outputs": [],
   "source": [
    "ncols = min(S_D, 8)\n",
    "for i in range(0, sequence_length, 20):\n",
    "    U, S, Vh = torch.linalg.svd(result['state_covariance'][i])\n",
    "    projection = state_estimation_error[:, i] @ U\n",
    "\n",
    "    x_min, x_max = torch.min(projection, dim=0)[0], torch.max(projection, dim=0)[0]\n",
    "    for j in range(ncols):\n",
    "        x = torch.linspace(x_min[j], x_max[j], steps=100)\n",
    "        c = utils.color(i + j / 2, scale=ncols)\n",
    "        nbins = math.ceil(60 * torch.sqrt(S[j]))\n",
    "\n",
    "        _, bins, _ = plt.hist(projection[:, j], color=c, bins=nbins, histtype='step', linewidth=1)\n",
    "        plt.plot(x, (dataset_size * ((bins[-1] - bins[0]) / nbins) / torch.sqrt(2 * torch.pi * S[j])) * torch.exp(-(x ** 2) / (2 * S[j])), color=c / 2, linewidth=0.5)\n",
    "\n",
    "    plt.xlabel('Error along nth principal component')\n",
    "    plt.ylabel('Count')\n",
    "    plt.title(f'State estimation error at step {i}')\n",
    "    plt.show()"
   ]
  },
  {
   "cell_type": "code",
   "execution_count": null,
   "metadata": {
    "id": "1zBSjk02yXHW",
    "executionInfo": {
     "status": "ok",
     "timestamp": 1698791291095,
     "user_tz": 420,
     "elapsed": 4,
     "user": {
      "displayName": "Wentinn Liao",
      "userId": "16122904268462266963"
     }
    }
   },
   "outputs": [],
   "source": []
  }
 ],
 "metadata": {
  "colab": {
   "provenance": [
    {
     "file_id": "1lcHhNw_r_eetYfC5dd7wEm_Cgw7yytr7",
     "timestamp": 1698522777293
    },
    {
     "file_id": "1q9Qx12ZP6MjTkUXpm6XF0Tw68M9eUD0c",
     "timestamp": 1693268309398
    }
   ]
  },
  "kernelspec": {
   "display_name": "Python 3",
   "name": "python3"
  },
  "language_info": {
   "name": "python"
  }
 },
 "nbformat": 4,
 "nbformat_minor": 0
}